{
 "cells": [
  {
   "cell_type": "markdown",
   "id": "e5c474c5",
   "metadata": {},
   "source": [
    "## Tool Installation"
   ]
  },
  {
   "cell_type": "code",
   "execution_count": null,
   "id": "d04fe1f8",
   "metadata": {},
   "outputs": [],
   "source": [
    "# pip install bioinfokit"
   ]
  },
  {
   "cell_type": "markdown",
   "id": "e78abd61",
   "metadata": {},
   "source": [
    "## Data Science Tools"
   ]
  },
  {
   "cell_type": "code",
   "execution_count": null,
   "id": "0f1fbfdf",
   "metadata": {},
   "outputs": [],
   "source": [
    "import bioinfokit as bik\n",
    "import numpy as np\n",
    "import matplotlib.pyplot as plt\n",
    "import pandas as pd\n",
    "import seaborn as sns\n",
    "import scipy.stats as stats"
   ]
  },
  {
   "cell_type": "markdown",
   "id": "926fcd1e",
   "metadata": {},
   "source": [
    "## GEX Matrix import and cell filtering"
   ]
  },
  {
   "cell_type": "markdown",
   "id": "aaa737c1",
   "metadata": {},
   "source": [
    "#### Add ST1 DBEC"
   ]
  },
  {
   "cell_type": "code",
   "execution_count": null,
   "id": "48cf9677",
   "metadata": {},
   "outputs": [],
   "source": [
    "df_ST_1 = pd.read_csv(\"SampleTag01.csv\", \n",
    "#                  sep='\\t',\n",
    "                 skiprows = 7, # For standard DBEC_MolsPerCell.csv file\n",
    "                 low_memory=False)\n",
    "df_ST_1"
   ]
  },
  {
   "cell_type": "markdown",
   "id": "0643908a",
   "metadata": {},
   "source": [
    "### CPM Norm"
   ]
  },
  {
   "cell_type": "code",
   "execution_count": null,
   "id": "2d595ebd",
   "metadata": {},
   "outputs": [],
   "source": [
    "from bioinfokit.analys import norm\n",
    "\n",
    "nm = norm()\n",
    "nm.cpm(df=df_ST_1)\n",
    "cpm_df = nm.cpm_norm\n",
    "\n",
    "cpm_df"
   ]
  },
  {
   "cell_type": "markdown",
   "id": "a669f156",
   "metadata": {},
   "source": [
    "### log2 Transform"
   ]
  },
  {
   "cell_type": "code",
   "execution_count": null,
   "id": "38ed0f87",
   "metadata": {},
   "outputs": [],
   "source": [
    "cpm_df_1 = cpm_df.applymap(lambda x: x+1)\n",
    "cpm_df_log2 = cpm_df_1.applymap(np.log2)\n",
    "cpm_df_log2.head()"
   ]
  },
  {
   "cell_type": "markdown",
   "id": "5e97bc3d",
   "metadata": {},
   "source": [
    "### Gate population of interest"
   ]
  },
  {
   "cell_type": "code",
   "execution_count": null,
   "id": "a998206b",
   "metadata": {},
   "outputs": [],
   "source": [
    "from scipy.stats import gaussian_kde\n",
    "\n",
    "# Markers\n",
    "x = cpm_df_log2[\"CD4\"]\n",
    "y = cpm_df_log2[\"CD8A\"]\n",
    "\n",
    "# Calculate the point density\n",
    "xy = np.vstack([x,y])\n",
    "z = gaussian_kde(xy)(xy)\n",
    "\n",
    "fig, ax = plt.subplots()\n",
    "ax.scatter(x, y, c=z, s=10)\n",
    "plt.show()"
   ]
  },
  {
   "cell_type": "code",
   "execution_count": null,
   "id": "62e0fbc5",
   "metadata": {},
   "outputs": [],
   "source": [
    "gated_df = cpm_df_log2[cpm_df_log2['CD4'] < 2.5]\n",
    "gated_df = gated_df[gated_df['CD8A'] > 2.0]\n",
    "\n",
    "# # Markers\n",
    "# x = gated_df[\"CD4:SK3|CD4|AHS0032|pAbO\"]\n",
    "# y = gated_df[\"CD8:RPA-T8|CD8A|AHS0027|pAbO\"]\n",
    "\n",
    "# # Calculate the point density\n",
    "# xy = np.vstack([x,y])\n",
    "# z = gaussian_kde(xy)(xy)\n",
    "\n",
    "# fig, ax = plt.subplots()\n",
    "# ax.scatter(x, y, c=z, s=10)\n",
    "# plt.show()"
   ]
  },
  {
   "cell_type": "markdown",
   "id": "afcdcde8",
   "metadata": {},
   "source": [
    "## Retain Cell_Index"
   ]
  },
  {
   "cell_type": "code",
   "execution_count": null,
   "id": "80231eba",
   "metadata": {},
   "outputs": [],
   "source": [
    "gated_df_labels = gated_df.reset_index()\n",
    "\n",
    "gated_df_labels = gated_df_labels[[\"Cell_Index\"]].copy() \n",
    "\n",
    "gated_df_labels"
   ]
  },
  {
   "cell_type": "markdown",
   "id": "ea13aaa0",
   "metadata": {},
   "source": [
    "#### https://support.10xgenomics.com/single-cell-vdj/software/pipelines/latest/algorithms/annotation#alignment \n",
    "#### Annotation is kind of the same for BD Rhapsody as it is for 10x Chromium"
   ]
  },
  {
   "cell_type": "markdown",
   "id": "f838f5f3",
   "metadata": {},
   "source": [
    "## TCR contigs import, gated cell label transfer and sorting"
   ]
  },
  {
   "cell_type": "code",
   "execution_count": null,
   "id": "c6e04594",
   "metadata": {},
   "outputs": [],
   "source": [
    "df = pd.read_csv(\"Dominant_Contigs_AIRR.tsv\", \n",
    "                 sep='\\t',\n",
    "                 low_memory=False)\n",
    "df"
   ]
  },
  {
   "cell_type": "markdown",
   "id": "6c9a82da",
   "metadata": {},
   "source": [
    "## Remove Ig Calls"
   ]
  },
  {
   "cell_type": "code",
   "execution_count": null,
   "id": "a09bafd9",
   "metadata": {},
   "outputs": [],
   "source": [
    "df_TCR = df[df[\"locus\"].str.contains(\"IGH\") == False]\n",
    "df_TCR = df_TCR[df_TCR[\"locus\"].str.contains(\"IGK\") == False]\n",
    "df_TCR = df_TCR[df_TCR[\"locus\"].str.contains(\"IGL\") == False]\n",
    "df_TCR"
   ]
  },
  {
   "cell_type": "markdown",
   "id": "737c4744",
   "metadata": {},
   "source": [
    "## Pick productive loci"
   ]
  },
  {
   "cell_type": "code",
   "execution_count": null,
   "id": "a10e2fc5",
   "metadata": {},
   "outputs": [],
   "source": [
    "productive_df= df_TCR.loc[df_TCR['productive']==True]\n",
    "productive_df"
   ]
  },
  {
   "cell_type": "markdown",
   "id": "4e1b48c2",
   "metadata": {},
   "source": [
    "## Reconstruct Constant Fragments"
   ]
  },
  {
   "cell_type": "code",
   "execution_count": null,
   "id": "ed0059fb",
   "metadata": {},
   "outputs": [],
   "source": [
    "# TRAC\n",
    "\n",
    "productive_df['sequence_aa'] = productive_df['sequence_aa'].str.replace('IQNPDPAVYQLRDSKSSDKSVCLFTDFD','IQNPDPAVYQLRDSKSSDKSVCLFTDFDSQTNVSQSKDSDVYITDKTVLDMRSMDFKSNSAVAWSNKSDFACANAFNNSIIPEDTFFPSPESSCDVKLVEKSFETDTNLNFQNLSVIGFRILLLKVAGFNLLMTLRLWSS')\n",
    "\n",
    "# TRBC\n",
    "\n",
    "productive_df['sequence_aa'] = productive_df['sequence_aa'].str.replace('PEVAVFEPSEA','PEVAVFEPSEAEISHTQKATLVCLATGFFPDHVELSWWVNGKEVHSGVSTDPQPLKEQPALNDSRYCLSSRLRVSATFWQNPRNHFRCQVQFYGLSENDEWTQDRAKPVTQIVSAEAWGRADCGFTSVSYQQGVLSATILYEILLGKATLYAVLVSALVLMAMVKRKDF')\n",
    "\n",
    "productive_df"
   ]
  },
  {
   "cell_type": "markdown",
   "id": "38ba632f",
   "metadata": {},
   "source": [
    "## Sort by locus"
   ]
  },
  {
   "cell_type": "code",
   "execution_count": null,
   "id": "f51c107f",
   "metadata": {},
   "outputs": [],
   "source": [
    "productive_df.sort_values(by = 'locus', axis=0, ascending=True, inplace=True)\n",
    "productive_df"
   ]
  },
  {
   "cell_type": "markdown",
   "id": "f6424b06",
   "metadata": {},
   "source": [
    "## Subset colums of interest from the main df"
   ]
  },
  {
   "cell_type": "code",
   "execution_count": null,
   "id": "1bf0e44d",
   "metadata": {},
   "outputs": [],
   "source": [
    "df_sort = productive_df[[\"cell_id\", 'locus', 'sequence_aa','cdr3_aa']].copy() \n",
    "\n",
    "df_sort = df_sort.rename(columns={'cell_id': 'Cell_Index'})\n",
    "\n",
    "df_sort.sort_values(by = 'Cell_Index', axis=0, ascending=True, inplace=True)\n",
    "\n",
    "df_sort['sequence_aa'] = df_sort['sequence_aa'].apply(lambda x: x.rsplit('*', maxsplit=1)[-1])\n",
    "\n",
    "df_sort['sequence_aa'] = df_sort['sequence_aa'].str.replace('^.*?[M]','M', regex=True)\n",
    "\n",
    "df_sort.head(10)"
   ]
  },
  {
   "cell_type": "markdown",
   "id": "0d63e063",
   "metadata": {},
   "source": [
    "## Pick TRA"
   ]
  },
  {
   "cell_type": "code",
   "execution_count": null,
   "id": "64c215d0",
   "metadata": {},
   "outputs": [],
   "source": [
    "df_sort_A = df_sort[df_sort[\"locus\"].str.contains(\"TRB\") == False]\n",
    "df_sort_A = df_sort_A[df_sort_A[\"locus\"].str.contains(\"TRG\") == False]\n",
    "df_sort_A = df_sort_A[df_sort_A[\"locus\"].str.contains(\"TRD\") == False]\n",
    "df_sort_A['locus_sequence_aa'] = df_sort_A[[\"locus\", \"sequence_aa\"]].apply(\n",
    "    lambda row: '_'.join(row.values.astype(str)), \n",
    "    axis=1)\n",
    "df_sort_A.head()"
   ]
  },
  {
   "cell_type": "markdown",
   "id": "11b4aa3e",
   "metadata": {},
   "source": [
    "## Pick TRB"
   ]
  },
  {
   "cell_type": "code",
   "execution_count": null,
   "id": "ac688f01",
   "metadata": {},
   "outputs": [],
   "source": [
    "df_sort_B = df_sort[df_sort[\"locus\"].str.contains(\"TRA\") == False]\n",
    "df_sort_B = df_sort_B[df_sort_B[\"locus\"].str.contains(\"TRG\") == False]\n",
    "df_sort_B = df_sort_B[df_sort_B[\"locus\"].str.contains(\"TRD\") == False]\n",
    "df_sort_B['locus_sequence_aa'] = df_sort_B[[\"locus\", \"sequence_aa\"]].apply(\n",
    "    lambda row: '_'.join(row.values.astype(str)), \n",
    "    axis=1)\n",
    "df_sort_B.head()"
   ]
  },
  {
   "cell_type": "markdown",
   "id": "fbb23501",
   "metadata": {},
   "source": [
    "## Merge TRA and TRB for single cells - locus_aaseq column"
   ]
  },
  {
   "cell_type": "code",
   "execution_count": null,
   "id": "b5a78e68",
   "metadata": {},
   "outputs": [],
   "source": [
    "df_AB = df_sort_A.append(df_sort_B)\n",
    "\n",
    "df_AB.sort_values(by = 'locus', axis=0, ascending=True, inplace=True)\n",
    "\n",
    "df_AB = df_AB[[\"Cell_Index\", 'locus_sequence_aa']].copy() \n",
    "\n",
    "df_AB = df_AB.groupby(\"Cell_Index\")['locus_sequence_aa'].apply(lambda x: '___'.join(x.astype(str))).reset_index()\n",
    "\n",
    "df_AB = df_AB[df_AB[\"locus_sequence_aa\"].str.contains(\"TRA\") == True]\n",
    "df_AB = df_AB[df_AB[\"locus_sequence_aa\"].str.contains(\"TRB\") == True]\n",
    "\n",
    "df_AB"
   ]
  },
  {
   "cell_type": "markdown",
   "id": "eb2570a4",
   "metadata": {},
   "source": [
    "## Gated cell label transfer - AB TCR"
   ]
  },
  {
   "cell_type": "code",
   "execution_count": null,
   "id": "fb9f39e5",
   "metadata": {},
   "outputs": [],
   "source": [
    "df_clonosort_AB = pd.merge(gated_df_labels, df_AB)\n",
    "\n",
    "df_clonosort_AB.set_index(['Cell_Index'], inplace=True)\n",
    "\n",
    "df_clonosort_AB"
   ]
  },
  {
   "cell_type": "markdown",
   "id": "84b175b7",
   "metadata": {},
   "source": [
    "## Count AB clonotypes "
   ]
  },
  {
   "cell_type": "code",
   "execution_count": null,
   "id": "d8553b8a",
   "metadata": {},
   "outputs": [],
   "source": [
    "df_AB_counts = df_clonosort_AB.groupby(df_clonosort_AB[\"locus_sequence_aa\"].tolist(),as_index=False).size()\n",
    "\n",
    "df_AB_counts.sort_values(by = 'size', axis=0, ascending=False, inplace=True)\n",
    "\n",
    "df_AB_counts = df_AB_counts.rename(columns={'index': 'AB TCR', 'size' : 'Number of Cells full length TCR'})\n",
    "\n",
    "df_AB_counts"
   ]
  },
  {
   "cell_type": "markdown",
   "id": "37a03317",
   "metadata": {},
   "source": [
    "## Visualise top 25 AB clonotypes' counts"
   ]
  },
  {
   "cell_type": "code",
   "execution_count": null,
   "id": "330b78c7",
   "metadata": {},
   "outputs": [],
   "source": [
    "df_AB_vis = df_AB_counts.iloc[:75,:]\n",
    "\n",
    "# df_AB_vis.set_index(['AB TCR AA-seq'], inplace=True)\n",
    "\n",
    "df_AB_vis.plot(kind='bar',y='Number of Cells full length TCR', figsize=(15,10))\n",
    "\n",
    "plt.savefig('Clonosort AB.png', bbox_inches='tight')\n",
    "# plt.savefig('HER2-neu Clonosort AB.png', bbox_inches='tight')\n",
    "\n",
    "plt.show()"
   ]
  },
  {
   "cell_type": "markdown",
   "id": "d32fb9f3",
   "metadata": {},
   "source": [
    "## Pick TRA CDR3"
   ]
  },
  {
   "cell_type": "code",
   "execution_count": null,
   "id": "f4aa0ffa",
   "metadata": {},
   "outputs": [],
   "source": [
    "df_sort_A_cdr3 = df_sort[df_sort[\"locus\"].str.contains(\"TRB\") == False]\n",
    "df_sort_A_cdr3 = df_sort_A_cdr3[df_sort_A_cdr3[\"locus\"].str.contains(\"TRG\") == False]\n",
    "df_sort_A_cdr3 = df_sort_A_cdr3[df_sort_A_cdr3[\"locus\"].str.contains(\"TRD\") == False]\n",
    "df_sort_A_cdr3['locus_cdr3_aa'] = df_sort_A_cdr3[[\"locus\", \"cdr3_aa\"]].apply(\n",
    "    lambda row: '_'.join(row.values.astype(str)), \n",
    "    axis=1)\n",
    "df_sort_A_cdr3.head()"
   ]
  },
  {
   "cell_type": "markdown",
   "id": "f6945397",
   "metadata": {},
   "source": [
    "## Pick TRB CDR3"
   ]
  },
  {
   "cell_type": "code",
   "execution_count": null,
   "id": "f0e0617f",
   "metadata": {},
   "outputs": [],
   "source": [
    "df_sort_B_cdr3 = df_sort[df_sort[\"locus\"].str.contains(\"TRA\") == False]\n",
    "df_sort_B_cdr3 = df_sort_B_cdr3[df_sort_B_cdr3[\"locus\"].str.contains(\"TRG\") == False]\n",
    "df_sort_B_cdr3 = df_sort_B_cdr3[df_sort_B_cdr3[\"locus\"].str.contains(\"TRD\") == False]\n",
    "df_sort_B_cdr3['locus_cdr3_aa'] = df_sort_B_cdr3[[\"locus\", \"cdr3_aa\"]].apply(\n",
    "    lambda row: '_'.join(row.values.astype(str)), \n",
    "    axis=1)\n",
    "df_sort_B_cdr3.head()"
   ]
  },
  {
   "cell_type": "markdown",
   "id": "d29d7c5b",
   "metadata": {},
   "source": [
    "## Merge TRA and TRB for single cells - locus_cdr3_aa column"
   ]
  },
  {
   "cell_type": "code",
   "execution_count": null,
   "id": "f184eb59",
   "metadata": {},
   "outputs": [],
   "source": [
    "df_AB_cdr3 = df_sort_A_cdr3.append(df_sort_B_cdr3)\n",
    "\n",
    "df_AB_cdr3.sort_values(by = 'locus', axis=0, ascending=True, inplace=True)\n",
    "\n",
    "df_AB_cdr3 = df_AB_cdr3[[\"Cell_Index\", 'locus_cdr3_aa']].copy() \n",
    "\n",
    "df_AB_cdr3 = df_AB_cdr3.groupby(\"Cell_Index\")['locus_cdr3_aa'].apply(lambda x: '___'.join(x.astype(str))).reset_index()\n",
    "\n",
    "df_AB_cdr3 = df_AB_cdr3[df_AB_cdr3[\"locus_cdr3_aa\"].str.contains(\"TRA\") == True]\n",
    "df_AB_cdr3 = df_AB_cdr3[df_AB_cdr3[\"locus_cdr3_aa\"].str.contains(\"TRB\") == True]\n",
    "\n",
    "df_AB_cdr3"
   ]
  },
  {
   "cell_type": "markdown",
   "id": "05df7692",
   "metadata": {},
   "source": [
    "## Gated cell label transfer - AB CDR3"
   ]
  },
  {
   "cell_type": "code",
   "execution_count": null,
   "id": "076e7a83",
   "metadata": {},
   "outputs": [],
   "source": [
    "df_clonosort_AB_cdr3 = pd.merge(gated_df_labels, df_AB_cdr3)\n",
    "\n",
    "df_clonosort_AB_cdr3.set_index(['Cell_Index'], inplace=True)\n",
    "\n",
    "df_clonosort_AB_cdr3"
   ]
  },
  {
   "cell_type": "code",
   "execution_count": null,
   "id": "4f8aee41",
   "metadata": {},
   "outputs": [],
   "source": [
    "df_AB_counts_cdr3 = df_clonosort_AB_cdr3.groupby(df_clonosort_AB_cdr3[\"locus_cdr3_aa\"].tolist(),as_index=False).size()\n",
    "\n",
    "df_AB_counts_cdr3.sort_values(by = 'size', axis=0, ascending=False, inplace=True)\n",
    "\n",
    "df_AB_counts_cdr3 = df_AB_counts_cdr3.rename(columns={'index': 'AB CDR3', 'size' : 'Number of Cells CDR3'})\n",
    "\n",
    "df_AB_counts_cdr3.head(25)"
   ]
  },
  {
   "cell_type": "code",
   "execution_count": null,
   "id": "f1e6c217",
   "metadata": {},
   "outputs": [],
   "source": [
    "df_AB_vis_cdr3 = df_AB_counts_cdr3.iloc[:75,:]\n",
    "\n",
    "df_AB_vis_cdr3.plot(kind='bar',y='Number of Cells CDR3', figsize=(15,10))\n",
    "\n",
    "plt.savefig('CDR3sort AB.png', bbox_inches='tight')\n",
    "\n",
    "plt.show()"
   ]
  }
 ],
 "metadata": {
  "kernelspec": {
   "display_name": "Python 3 (ipykernel)",
   "language": "python",
   "name": "python3"
  },
  "language_info": {
   "codemirror_mode": {
    "name": "ipython",
    "version": 3
   },
   "file_extension": ".py",
   "mimetype": "text/x-python",
   "name": "python",
   "nbconvert_exporter": "python",
   "pygments_lexer": "ipython3",
   "version": "3.9.12"
  }
 },
 "nbformat": 4,
 "nbformat_minor": 5
}
